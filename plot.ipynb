{
 "cells": [
  {
   "cell_type": "code",
   "execution_count": 1,
   "id": "470a0325-a236-489d-a224-8f5702682bee",
   "metadata": {},
   "outputs": [],
   "source": [
    "%matplotlib inline\n",
    "\n",
    "import matplotlib as mpl\n",
    "\n",
    "import os\n",
    "import numpy as np\n",
    "import matplotlib.pyplot as plt\n",
    "\n",
    "from BQ_code.utils import FUNC, ALGO\n",
    "from BQ_code.functions import *"
   ]
  },
  {
   "cell_type": "markdown",
   "id": "d37a0d06-ddd3-40d3-8ce3-9e99a9de4164",
   "metadata": {},
   "source": [
    "### Error Calculation"
   ]
  },
  {
   "cell_type": "code",
   "execution_count": 2,
   "id": "e2cf35c7-7f20-4fd2-a34f-113679da83d1",
   "metadata": {},
   "outputs": [],
   "source": [
    "NUM_TRIAL = 1\n",
    "NUM_EXP = 1\n",
    "MAX_STEP= 250"
   ]
  },
  {
   "cell_type": "code",
   "execution_count": 3,
   "id": "e9520a7f-2ccc-40ca-88c5-1337452a12ba",
   "metadata": {},
   "outputs": [],
   "source": [
    "def read_calc_error(func_name, noise, algo_name, split=None):\n",
    "    if split == None:\n",
    "        result_dir = os.path.join(base_dir, FUNC[func_name], str(noise), ALGO[algo_name])\n",
    "    else:\n",
    "        result_dir = os.path.join(base_dir, FUNC[func_name], str(noise), str(split), ALGO[algo_name])\n",
    "    \n",
    "    datadir = os.path.join(result_dir, func_name + '_' + algo_name +'_query_history.npy')\n",
    "    history_quad = np.load(datadir, allow_pickle=True)[()]['integrals']\n",
    "    \n",
    "    pad_num = MAX_STEP - len(history_quad[0])\n",
    "    history_quad = np.pad(history_quad, [(0,0),(pad_num,0)], 'constant')\n",
    "\n",
    "    history_quad = history_quad.reshape(-1, NUM_EXP, MAX_STEP)\n",
    "    quad_mean = np.mean(history_quad, axis=1)\n",
    "    \n",
    "    true_quad = eval(FUNC[func_name])().true_quad\n",
    "    error = np.abs(true_quad - quad_mean)\n",
    "    \n",
    "    error_mean = np.mean(error, axis=0)\n",
    "    error_std = np.std(error, axis=0)\n",
    "    \n",
    "    return error_mean, error_std"
   ]
  },
  {
   "cell_type": "markdown",
   "id": "ef05705d-4b99-46db-84ca-336b046a3669",
   "metadata": {},
   "source": [
    "### Color specification"
   ]
  },
  {
   "cell_type": "code",
   "execution_count": 4,
   "id": "d0b5a23a-8a86-42c1-9b6b-acce0a37d265",
   "metadata": {},
   "outputs": [],
   "source": [
    "plt.style.use('default')\n",
    "import seaborn as sns\n",
    "\n",
    "colors = sns.color_palette(\"dark\")\n",
    "greens = sns.color_palette(\"BuGn\", 10)\n",
    "blues = sns.color_palette(\"PuBu\", 10)\n",
    "reds = sns.color_palette(\"YlOrRd\", 10)\n",
    "purples = sns.color_palette(\"PuOr\", 10)\n",
    "\n",
    "FMT = {\n",
    "        'mvs-mat' : '>',\n",
    "        'mvs-mc-mat': '>',\n",
    "        'mvs-se' : 's',\n",
    "        'mvs-mc-se': 's',\n",
    "        'mc' : 'h',\n",
    "        'trap' : 'd',\n",
    "        }\n",
    "\n",
    "COLOR = {\n",
    "        'mvs-mat' : reds[5],\n",
    "        'mvs-mc-mat': reds[9],\n",
    "        'mvs-se' : blues[9],\n",
    "        'mvs-mc-se' : purples[9],\n",
    "        'mc' : greens[9],\n",
    "        'trap' : blues[9],\n",
    "        }\n",
    "\n",
    "LINE = {\n",
    "        'mvs-mat' : '-',\n",
    "        'mvs-mc-mat': '-',\n",
    "        'mvs-se' : '-',\n",
    "        'mvs-mc-se': '-',\n",
    "        'mc' : '-',\n",
    "        'trap' : '-',\n",
    "        }"
   ]
  },
  {
   "cell_type": "markdown",
   "id": "bb26a54f-94e1-4c47-8cd1-f6ba5536a79e",
   "metadata": {},
   "source": [
    "### Error plot"
   ]
  },
  {
   "cell_type": "code",
   "execution_count": 5,
   "id": "83f47045-d645-49f1-887e-9f1231f2f7a6",
   "metadata": {},
   "outputs": [],
   "source": [
    "BASE = 15\n",
    "SPLIT = int(MAX_STEP // BASE)\n",
    "base_dir = './results'\n",
    "\n",
    "def plot(func_name, noise, algo_list, loc='upper right', yrange=None, std_scale=None):\n",
    "    \"\"\"\n",
    "    Function for plotting the results\n",
    "    \"\"\"\n",
    "    fig, ax = plt.subplots(figsize=(4.5,3),dpi=150)\n",
    "    std_scale = np.ones(len(algo_list)) if std_scale==None else std_scale\n",
    "    \n",
    "    plt_list = []\n",
    "    label_list = []\n",
    "    \n",
    "    for i, algo_name in enumerate(algo_list):\n",
    "        error_mean, error_std = read_calc_error(func_name, noise, algo_name)\n",
    "        error_std *= std_scale\n",
    "        if algo_name == 'trap':\n",
    "            total_square = int(MAX_STEP ** 0.5 + 1e-8)\n",
    "            error_mean = error_mean[::int(MAX_STEP // total_square)]\n",
    "            error_std = error_std[::int(MAX_STEP // total_square)]\n",
    "            xs = np.arange(total_square+1)**2\n",
    "        else:\n",
    "            error_mean = np.append(error_mean[::BASE], error_mean[-1]) \n",
    "            error_std = np.append(error_std[::BASE], error_std[-1]) \n",
    "            xs = np.arange(0,MAX_STEP+BASE,BASE)\n",
    "        \n",
    "        line_plt, = ax.plot(xs, error_mean, linestyle=LINE[algo_name], lw=0.8, color=COLOR[algo_name])\n",
    "        \n",
    "        band_plt = ax.fill_between(xs, error_mean-error_std, error_mean+error_std, \\\n",
    "                        color=COLOR[algo_name],linestyle=LINE[algo_name],\\\n",
    "                       lw=0.5, alpha=0.2)\n",
    "        \n",
    "        plt_list.append((line_plt, band_plt))\n",
    "        label_list.append(ALGO[algo_name])\n",
    "        \n",
    "    \n",
    "    ax.legend(plt_list, label_list, loc=loc, fontsize=10)\n",
    "\n",
    "    ax.set_xlabel('Queries', fontsize=13)\n",
    "    ax.set_ylabel('Error', fontsize=13)\n",
    "    ax.set_yscale('log')\n",
    "    if yrange is not None:\n",
    "        ax.set_ylim(*yrange)\n",
    "    ax.set_title(FUNC[func_name] + ' - $\\sigma='+str(noise)+'$', fontsize=14)\n",
    "    plt.show()\n",
    "\n",
    "    ### Uncomment to save figure\n",
    "    # fig.savefig(base_dir + '\\\\%s-%s.pdf'%(func_name,noise), bbox_inches='tight') \n",
    "    "
   ]
  },
  {
   "cell_type": "markdown",
   "id": "bab60f11-a257-4120-aaa6-c2ba6699227b",
   "metadata": {},
   "source": [
    "### Plot Test Function"
   ]
  },
  {
   "cell_type": "code",
   "execution_count": null,
   "id": "3c471443-ea6a-41f3-9972-2942e4edda7b",
   "metadata": {},
   "outputs": [],
   "source": [
    "plot('ack1', 0, [ 'mc','mvs-mat', 'mvs-mc-mat', 'mvs-se', 'mvs-mc-se'], 'upper right', std_scale=0.5)"
   ]
  },
  {
   "cell_type": "markdown",
   "id": "597dc686-9a42-445e-b302-59629c3ccdd6",
   "metadata": {},
   "source": [
    "### Split Plot"
   ]
  },
  {
   "cell_type": "code",
   "execution_count": 6,
   "id": "0faef6cd-8add-4f2a-8aa0-b98f3064dc9d",
   "metadata": {},
   "outputs": [],
   "source": [
    "NUM_TRIAL = 10\n",
    "NUM_EXP = 1\n",
    "base_dir = './results-split/'\n",
    "SPLITS = [0,0.1, 0.2, 0.3, 0.4, 0.5, 0.6, 0.7, 0.8, 0.9,1.0]"
   ]
  },
  {
   "cell_type": "code",
   "execution_count": 7,
   "id": "26f331dc-e796-4db6-bd1e-5791b645fe9a",
   "metadata": {},
   "outputs": [],
   "source": [
    "def plot_split(func_name, noise, algo_list, split_list, loc='upper right', std_scale=1.):\n",
    "    \"\"\"\n",
    "    Function for plotting the results\n",
    "    \"\"\"\n",
    "    fig, ax = plt.subplots(figsize=(4.5,3),dpi=150)\n",
    "    \n",
    "    for algo_name in algo_list:\n",
    "        error_mean = []\n",
    "        error_std = []\n",
    "        for split in split_list:\n",
    "            mean, std = read_calc_error(func_name, noise, algo_name, split)\n",
    "            error_mean.append(mean[-1])\n",
    "            error_std.append(std[-1])\n",
    "\n",
    "        error_mean = np.array(error_mean)\n",
    "        error_std = np.array(error_std)\n",
    "\n",
    "        ax.errorbar(range(len(split_list)), error_mean, error_std*std_scale,\\\n",
    "                     fmt=FMT[algo_name], color=COLOR[algo_name], label=ALGO[algo_name],\\\n",
    "                    linestyle=LINE[algo_name], capsize=4, lw=1.5, markersize=5)\n",
    "    \n",
    "    ax.legend(loc=loc, fontsize=10)\n",
    "    ax.set_xticks(range(len(split_list)))\n",
    "    ax.set_xticklabels(split_list)\n",
    "    ax.set_xlabel('MVS-MC Splits', fontsize=13)\n",
    "    ax.set_ylabel('Error', fontsize=13)\n",
    "    ax.set_title(FUNC[func_name] + ' - $\\sigma='+str(noise)+'$', fontsize=14)\n",
    "    plt.show()\n",
    "    \n",
    "    ### Uncomment to save figure\n",
    "    # fig.savefig(base_dir + 'split-%s-%s.pdf'%(func_name,noise), bbox_inches='tight') "
   ]
  },
  {
   "cell_type": "code",
   "execution_count": null,
   "id": "ec4d4d83-08dd-4403-9c83-8ee5bfd5d0e5",
   "metadata": {},
   "outputs": [],
   "source": [
    "plot_split('ack2', 0, ['mvs-mc-mat', 'mvs-mc-se'], SPLITS, 'upper right', 0.3)"
   ]
  }
 ],
 "metadata": {
  "kernelspec": {
   "display_name": "Python 3 (ipykernel)",
   "language": "python",
   "name": "python3"
  },
  "language_info": {
   "codemirror_mode": {
    "name": "ipython",
    "version": 3
   },
   "file_extension": ".py",
   "mimetype": "text/x-python",
   "name": "python",
   "nbconvert_exporter": "python",
   "pygments_lexer": "ipython3",
   "version": "3.10.9"
  }
 },
 "nbformat": 4,
 "nbformat_minor": 5
}
