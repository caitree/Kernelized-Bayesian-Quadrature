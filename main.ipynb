{
 "cells": [
  {
   "cell_type": "code",
   "execution_count": 1,
   "id": "bbb5d16c-10a0-492f-86c1-a42145890aaa",
   "metadata": {},
   "outputs": [],
   "source": [
    "import os, sys, time\n",
    "import numpy as np\n",
    "\n",
    "from BQ_code.utils import FUNC, ALGO\n",
    "from BQ_code.functions import *\n",
    "from BQ_code.BQ import GPBQ\n",
    "from BQ_code.utils import calc_quadrature_trap, calc_quadrature_mc, calc_quadrature_bq"
   ]
  },
  {
   "cell_type": "code",
   "execution_count": 2,
   "id": "b260c4e0-ce37-4774-b999-be39b2f4e86a",
   "metadata": {},
   "outputs": [],
   "source": [
    "NUM_TRIAL = 100\n",
    "NUM_EXP = 1\n",
    "MAXSTEP = 250\n",
    "N_INITS = 3"
   ]
  },
  {
   "cell_type": "code",
   "execution_count": 3,
   "id": "813e957f-e8e2-4e75-9510-6e7609e9c349",
   "metadata": {},
   "outputs": [],
   "source": [
    "\n",
    "def run(base_dir, func_name, algorithms, noise_level, split=0.5, save_split=False):\n",
    "    _result_path = os.path.join(base_dir, FUNC[func_name])\n",
    "    if not os.path.exists(_result_path):\n",
    "        os.mkdir(_result_path) \n",
    "\n",
    "    _result_path = os.path.join(_result_path, str(noise_level))\n",
    "    if not os.path.exists(_result_path):\n",
    "        os.mkdir(_result_path)\n",
    "\n",
    "    if save_split:\n",
    "        _result_path = os.path.join(_result_path, str(split))\n",
    "        if not os.path.exists(_result_path):\n",
    "            os.mkdir(_result_path)\n",
    "\n",
    "    function = eval(FUNC[func_name])(noisy=True, noise_std=noise_level)\n",
    "    func_bounds=function.bounds\n",
    "\n",
    "    \n",
    "    for j in range(NUM_TRIAL):\n",
    "        '''\n",
    "        In each trial, all the algorithms share the same initial points\n",
    "        Different trials have different initial points\n",
    "        '''\n",
    "    \n",
    "        X_init = np.random.uniform(func_bounds[:, 0], func_bounds[:, 1], size=(N_INITS, func_bounds.shape[0]))\n",
    "\n",
    "        for algo_name in algorithms:\n",
    "            result_path = os.path.join(_result_path, ALGO[algo_name])\n",
    "            if not os.path.exists(result_path):\n",
    "                os.mkdir(result_path)\n",
    "            log_path = os.path.join(result_path, str(func_name) + '_' + str(algo_name) + '_log.log')\n",
    "            log = open(log_path, 'a')\n",
    "            sys.stdout = log\n",
    "\n",
    "            history_save_path = os.path.join(result_path, str(func_name) + '_' + str(algo_name) + '_query_history.npy')\n",
    "            if not os.path.exists(history_save_path):\n",
    "                history = {'observedpoints' : [],\n",
    "                        'observedvalues': [],\n",
    "                        'integrals' : [],\n",
    "                        }\n",
    "            else:\n",
    "                history = np.load(history_save_path, allow_pickle=True)[()]\n",
    "\n",
    "\n",
    "            print(str(j+1) + 'th trial of ' + ALGO[algo_name])\n",
    "\n",
    "            for i in range(NUM_EXP):\n",
    "                '''\n",
    "                Run each algorithm $NUM_EXP times\n",
    "                '''\n",
    "\n",
    "                start_time = time.time()\n",
    "                print('\\t' + str(i+1) + 'th experiment of ' + ALGO[algo_name])\n",
    "                sys.stdout.flush()\n",
    "\n",
    "\n",
    "                # hyper_history = []\n",
    "                if algo_name in ['mvs-mc-mat', 'mvs-mat', 'mvs-se', 'mvs-mc-se']:\n",
    "                    '''\n",
    "                    ensure mvs-mc and mvs have same initial points\n",
    "                    '''\n",
    "                    Bq_test= GPBQ(function, func_bounds, algo_name)\n",
    "                    Bq_test.set_hyper(0.2, 1, 1.5) #l, var, nu\n",
    "                    Bq_test.gp.noise_delta = 1e-5\n",
    "\n",
    "                    Bq_test.initiate(X_init)\n",
    "\n",
    "                    if 'mvs-mc' in algo_name:\n",
    "                        quad_his, x_his, y_his = calc_quadrature_bq(Bq_test, function, func_bounds, MAXSTEP, N_INITS, split=split)\n",
    "                    else:\n",
    "                        quad_his, x_his, y_his = calc_quadrature_bq(Bq_test, function, func_bounds, MAXSTEP, N_INITS, split=1)\n",
    "\n",
    "                    del Bq_test\n",
    "\n",
    "                elif algo_name == 'mc':\n",
    "                    quad_his, x_his, y_his = calc_quadrature_mc(function, func_bounds, MAXSTEP)\n",
    "                elif algo_name == 'trap':\n",
    "                    quad_his, x_his, y_his = calc_quadrature_trap(function, func_bounds, MAXSTEP)\n",
    "\n",
    "\n",
    "                history['observedpoints'].append(x_his)\n",
    "                history['observedvalues'].append(y_his)\n",
    "                history['integrals'].append(quad_his)\n",
    "                sys.stdout.flush()\n",
    "\n",
    "                current_time = time.time()\n",
    "                print('\\tRunning time : ', current_time - start_time)\n",
    "                print('\\n')\n",
    "\n",
    "            np.save(history_save_path, np.asarray(history))\n",
    "\n",
    "        del X_init\n"
   ]
  },
  {
   "cell_type": "markdown",
   "id": "91a8ae7d-5ed4-403e-937a-51c6c76381c2",
   "metadata": {
    "tags": []
   },
   "source": [
    "### Main experiment"
   ]
  },
  {
   "cell_type": "code",
   "execution_count": 4,
   "id": "68b18e67-832a-424e-8554-a3de0e3691e6",
   "metadata": {},
   "outputs": [],
   "source": [
    "NOISE_LEVEL = [0, 1e-1, 5e-1]\n",
    "FUNCS = ['ack1']  # More supported functions can be found in ./BQ_code/utils.py\n",
    "\n",
    "base_dir = './results'\n",
    "if not os.path.exists(base_dir):\n",
    "    os.mkdir(base_dir)"
   ]
  },
  {
   "cell_type": "code",
   "execution_count": null,
   "id": "d9bdf3b7-b419-45f9-9180-d3ed2c00b17a",
   "metadata": {},
   "outputs": [],
   "source": [
    "for func_name in FUNCS:\n",
    "    for noise in NOISE_LEVEL:\n",
    "        run(base_dir, func_name, ['mc','mvs-se','mvs-mc-se','mvs-mat','mvs-mc-mat'], noise, 0.5)"
   ]
  },
  {
   "cell_type": "markdown",
   "id": "544644c4-b686-4421-86b0-dcaa869e9d9b",
   "metadata": {},
   "source": [
    "### Split experiment"
   ]
  },
  {
   "cell_type": "code",
   "execution_count": 6,
   "id": "db6c5ede-3d7a-42a5-9dfd-69cf5d060c31",
   "metadata": {},
   "outputs": [],
   "source": [
    "NUM_TRIAL = 10\n",
    "SPLITS = [0.1, 0.2, 0.3, 0.4, 0.5, 0.6, 0.7, 0.8, 0.9]\n",
    "\n",
    "base_dir = './results-split'\n",
    "if not os.path.exists(base_dir):\n",
    "    os.mkdir(base_dir)"
   ]
  },
  {
   "cell_type": "code",
   "execution_count": 10,
   "id": "053942ca-6ca7-4475-96a3-72cbce3c0060",
   "metadata": {},
   "outputs": [],
   "source": [
    "for func_name in FUNCS:\n",
    "    for noise in NOISE_LEVEL:\n",
    "        for split in SPLITS:\n",
    "            run(base_dir, func_name, ['mvs-mc-mat'], noise, split, True)"
   ]
  }
 ],
 "metadata": {
  "kernelspec": {
   "display_name": "Python 3 (ipykernel)",
   "language": "python",
   "name": "python3"
  },
  "language_info": {
   "codemirror_mode": {
    "name": "ipython",
    "version": 3
   },
   "file_extension": ".py",
   "mimetype": "text/x-python",
   "name": "python",
   "nbconvert_exporter": "python",
   "pygments_lexer": "ipython3",
   "version": "3.10.9"
  }
 },
 "nbformat": 4,
 "nbformat_minor": 5
}
